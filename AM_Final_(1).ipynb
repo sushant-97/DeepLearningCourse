{
  "cells": [
    {
      "cell_type": "markdown",
      "metadata": {
        "id": "view-in-github",
        "colab_type": "text"
      },
      "source": [
        "<a href=\"https://colab.research.google.com/github/sushant-97/DeepLearningCourse/blob/main/AM_Final_(1).ipynb\" target=\"_parent\"><img src=\"https://colab.research.google.com/assets/colab-badge.svg\" alt=\"Open In Colab\"/></a>"
      ]
    },
    {
      "cell_type": "code",
      "execution_count": null,
      "id": "d34172f5",
      "metadata": {
        "id": "d34172f5"
      },
      "outputs": [],
      "source": [
        "import numpy as np\n",
        "from numpy.random import uniform"
      ]
    },
    {
      "cell_type": "code",
      "execution_count": null,
      "id": "752829e1",
      "metadata": {
        "id": "752829e1"
      },
      "outputs": [],
      "source": [
        "# Inputs parameters\n",
        "\n",
        "population_size = 1000\n",
        "selection_size = 100\n",
        "clone_rate = 5\n",
        "random_cells_num = 20\n",
        "mutation_rate = 0.2\n",
        "stop_codition = 1000"
      ]
    },
    {
      "cell_type": "code",
      "execution_count": null,
      "id": "75e34993",
      "metadata": {
        "id": "75e34993"
      },
      "outputs": [],
      "source": [
        "# Constraints declaration\n",
        "lb = [0,0,0,0,0,0,0,0,0,0,0,0,0,0,0,0,0,0,0,0,0,0,0,0,0,0,0,0,0,0,0,0,0,0,0,0,0,0,7.8,7.8,7.8,7.8,7.8,7.8,7.8,7.8,7.8,7.8]\n",
        "ub = [0.20255443,0.194338426,0.23546333,0.32821044,0.42089616,0.42631133,0.4989494,0.47117982,0.35763598,0.08110411,0.082898831,0.10066466,0.13249319,0.16010308,0.15592589,0.18129309,0.181323,0.2648274,0.2862706,0.41193757,0.55310178,0.56529906,0.64004439,0.53932254,0.37075836,0.39295735,0.47323994,0.52996986,0.49977353,0.20662314,1.69737792,2.640582,4.5511536,5.09727288,5.96578416,6.12876768,4.9894152,3.7502249,70.4,70.4,70.4,70.4,70.4,70.4,70.4,70.4,70.4,70.4]"
      ]
    },
    {
      "cell_type": "code",
      "execution_count": null,
      "id": "82b7f3bd",
      "metadata": {
        "id": "82b7f3bd",
        "outputId": "9f9fcad8-c299-427a-f131-705fb9cbd46a"
      },
      "outputs": [
        {
          "name": "stdout",
          "output_type": "stream",
          "text": [
            "48\n",
            "48\n"
          ]
        }
      ],
      "source": [
        "print(len(lb))\n",
        "print(len(ub))"
      ]
    },
    {
      "cell_type": "code",
      "execution_count": null,
      "id": "95a1d50c",
      "metadata": {
        "id": "95a1d50c"
      },
      "outputs": [],
      "source": [
        "# Function to Create Random Population\n",
        "def create_random_cells(population_size,ub):\n",
        "    population = []\n",
        "    for i in range(0, population_size):\n",
        "        # Declaring variables\n",
        "        x = []\n",
        "        for j in range(0,48):\n",
        "            x.append(uniform(lb[j],ub[j]))\n",
        "        population.append(x)\n",
        "    return population"
      ]
    },
    {
      "cell_type": "code",
      "execution_count": null,
      "id": "5a45eacc",
      "metadata": {
        "id": "5a45eacc"
      },
      "outputs": [],
      "source": [
        "# Fitness function\n",
        "def fitness(x,ub):\n",
        "    f = 0.2*(x[0]-ub[0])**2 + 0.317*(x[1]-ub[1])**2 + 0.608*(x[2]-ub[2])**2 + 0.813*(x[3]-ub[3])**2 + 0.8*(x[4]-ub[4])**2 + 0.666*(x[5]-ub[5])**2 + 0.388*(x[6]-ub[6])**2 + 0.25*(x[7]-ub[7])**2 + 0.2*(x[8]-ub[8])**2 + 0.2*(x[9]-ub[9])**2 + 0.25*(x[10]-ub[10])**2 + 0.375*(x[11]-ub[11])**2 +0.525*(x[12]-ub[12])**2 + 0.581*(x[13]-ub[13])**2 + 0.544*(x[14]-ub[14])**2 + 0.515*(x[15]-ub[15])**2 +0.5*(x[16]-ub[16])**2 + 0.45*(x[17]-ub[17])**2 + 0.43*(x[18]-ub[18])**2 + 0.38*(x[19]-ub[19])**2 +0.393*(x[20]-ub[20])**2 +  0.515*(x[21]-ub[21])**2 + 0.585*(x[22]-ub[22])**2 + 0.388*(x[23]-ub[23])**2 +1.1*(x[24]-ub[24])**2 + 1.01*(x[25]-ub[25])**2 +  0.83*(x[26]-ub[26])**2 + 0.65*(x[27]-ub[27])**2 +0.43*(x[28]-ub[28])**2 +  0.2*(x[29]-ub[29])**2 + 0.2*(x[30]-ub[30])**2 +  0.32*(x[31]-ub[31])**2 +0.52*(x[32]-ub[32])**2 + 0.6*(x[33]-ub[33])**2 +  0.6*(x[34]-ub[34])**2 +  0.575*(x[35]-ub[35])**2 +0.545*(x[36]-ub[36])**2 +  0.5*(x[37]-ub[37])**2 + (((70.4*0.994113)-(x[38]*1.006755014)-(x[0]+x[9])-0.71028)**2) + (((x[38]*0.994113)-(x[39]*1.0058867)-(x[1]+x[10]+x[17]+x[24])-0.1485)**2) + (((x[39]*0.994783-x[40]*1.00521723)-(x[2]+x[11]+x[18]+x[25]+x[30])-0.1316106)**2) + (((x[40]*0.994806-x[41]*1.005194468)-(x[3]+x[12]+x[19]+x[26]+x[31])-0.1310364)**2)+(((x[41]*0.994404-x[42]*1.005595552)-(x[4]+x[13]+x[20]+x[27]+x[32])-0.1411542)**2) +(((x[42]*0.99455-x[43]*1.005449561)-(x[5]+x[14]+x[21]+x[28]+x[33])-0.1374714)**2)+ (((x[43]*0.993624-x[44]*1.006375743)-(x[6]+x[15]+x[22]+x[29]+x[34])-0.1608354)**2) +(((x[44]*0.993448-x[45]*1.006552345)-(x[7]+x[16]+x[23]+x[35])-0.1652904)**2) + (((x[45]*0.993627-x[46]*1.006373388)-(x[8]+x[36])-0.160776)**2) + (((x[46]*0.992151-x[47]*1.007849)-(x[37])-0.198)**2)\n",
        "    return f"
      ]
    },
    {
      "cell_type": "code",
      "execution_count": null,
      "id": "bb8bc205",
      "metadata": {
        "id": "bb8bc205",
        "outputId": "e1c64867-8491-4a38-e6b0-736f01f10c05"
      },
      "outputs": [
        {
          "data": {
            "text/plain": [
              "2635.2528896371305"
            ]
          },
          "execution_count": 54,
          "metadata": {},
          "output_type": "execute_result"
        }
      ],
      "source": [
        "#Checking\n",
        "pop = create_random_cells(1, ub)\n",
        "x = fitness(pop[0],ub)\n",
        "x"
      ]
    },
    {
      "cell_type": "code",
      "execution_count": null,
      "id": "b71faf7a",
      "metadata": {
        "id": "b71faf7a"
      },
      "outputs": [],
      "source": [
        "# Function to create dic of Fitness_Value and Population\n",
        "def dic(fitness, population):\n",
        "    return dict(zip(fitness, population))"
      ]
    },
    {
      "cell_type": "code",
      "execution_count": null,
      "id": "8d706b74",
      "metadata": {
        "id": "8d706b74"
      },
      "outputs": [],
      "source": [
        "# Function to create clones\n",
        "def clones(clone_rate,pop_to_clone):\n",
        "    \n",
        "    cloned_population=[]\n",
        "    for i in pop_to_clone:\n",
        "        cloned_list_of_position += [i[:] for _ in range(clone_rate)]\n",
        "    \n",
        "    return cloned_population"
      ]
    },
    {
      "cell_type": "code",
      "execution_count": null,
      "id": "cea1f98e",
      "metadata": {
        "id": "cea1f98e"
      },
      "outputs": [],
      "source": [
        "# Function to create clones\n",
        "def clone(clone_rate,pop_i):\n",
        "    \n",
        "    cloned_population=[]\n",
        "    cloned_population += [pop_i[:] for _ in range(clone_rate)]\n",
        "    \n",
        "    return cloned_population"
      ]
    },
    {
      "cell_type": "code",
      "execution_count": null,
      "id": "328f149a",
      "metadata": {
        "id": "328f149a"
      },
      "outputs": [],
      "source": [
        "# Function to mutate cloned_population\n",
        "\n",
        "def hypermutate(pop_i,lb,ub):\n",
        "    ls_random = []\n",
        "    for i in range(0,10):\n",
        "        ls_random.append(np.random.randint(0,47))\n",
        "\n",
        "    for j in ls_random:\n",
        "        pop_i[j] = uniform(lb[j],ub[j])\n",
        "    \n",
        "    return pop_i"
      ]
    },
    {
      "cell_type": "code",
      "execution_count": null,
      "id": "4bdf8062",
      "metadata": {
        "id": "4bdf8062"
      },
      "outputs": [],
      "source": [
        "# Select Population for Next Generation\n",
        "\n",
        "def select(pop, pop_clones, pop_size):\n",
        "    population = pop + pop_clones\n",
        "    \n",
        "    population = sorted(population, key=lambda x: x[1])[:pop_size]\n",
        "    \n",
        "    return population"
      ]
    },
    {
      "cell_type": "code",
      "execution_count": null,
      "id": "ae039c5e",
      "metadata": {
        "id": "ae039c5e"
      },
      "outputs": [],
      "source": [
        "def replace(population, population_rand, population_size):\n",
        "    population = population + population_rand\n",
        "    population = sorted(population, key=lambda x: x[1])[:population_size]\n",
        "    \n",
        "    return population"
      ]
    },
    {
      "cell_type": "code",
      "execution_count": null,
      "id": "5f1015be",
      "metadata": {
        "id": "5f1015be"
      },
      "outputs": [],
      "source": [
        "# population = create_random_cells(population_size, ub)\n",
        "# population_fitness = [(pop_i,fitness(pop_i, ub)) for pop_i in population]\n",
        "# print(len(population_fitness[0]))\n",
        "# population_fitness"
      ]
    },
    {
      "cell_type": "markdown",
      "id": "f0fc8f9e",
      "metadata": {
        "id": "f0fc8f9e"
      },
      "source": [
        "# Trial 1"
      ]
    },
    {
      "cell_type": "code",
      "execution_count": null,
      "id": "2c88faa3",
      "metadata": {
        "id": "2c88faa3"
      },
      "outputs": [],
      "source": [
        "# Inputs parameters\n",
        "\n",
        "population_size = 1000\n",
        "selection_size = 100\n",
        "clone_rate = 5\n",
        "random_cells_num = 20\n",
        "mutation_rate = 0.2\n",
        "stop_codition = 1000"
      ]
    },
    {
      "cell_type": "code",
      "execution_count": null,
      "id": "98039265",
      "metadata": {
        "id": "98039265"
      },
      "outputs": [],
      "source": [
        "stop = 0\n",
        "\n",
        "# Population <- CreateRandomCells(Population_size,ub)\n",
        "population = create_random_cells(population_size, ub)\n",
        "best_fitness = []\n",
        "\n",
        "while stop != stop_codition:\n",
        "    \n",
        "    # Fitnesss(p_i)\n",
        "    population_fitness = [(pop_i,fitness(pop_i, ub)) for pop_i in population]\n",
        "    population_fitness = sorted(population_fitness, key=lambda x: x[1])\n",
        "    \n",
        "    best_fitness.append(population_fitness[:5])\n",
        "    \n",
        "    # Populatin_select <- Select(Population, Selection_size)\n",
        "    population_select = population_fitness[:selection_size]\n",
        "    \n",
        "    # Population_clones <- clone(pop_i, Clone_rate)\n",
        "    population_clones = []\n",
        "    for pop_i in population_select:\n",
        "        pop_i_clone = clone(clone_rate, pop_i)\n",
        "        population_clones += pop_i_clone\n",
        "        \n",
        "    # Hypermutate and fitness\n",
        "    pop_clones_tmp = []\n",
        "    for pop_i in population_clones:\n",
        "        ind_tmp = hypermutate(pop_i[0], lb,ub)\n",
        "        pop_clones_tmp.append(ind_tmp)\n",
        "    population_clones = pop_clones_tmp\n",
        "    population_clones = [(pop_i,fitness(pop_i, ub)) for pop_i in population_clones]\n",
        "    del pop_clones_tmp\n",
        "    \n",
        "    # Population <- Select(Population, Population_clones, Population_size)\n",
        "    population = select(population_fitness, population_clones, population_size)\n",
        "    \n",
        "    # Population_rand <- CreateRandomCells(RandomCells_num)\n",
        "    population_rand = create_random_cells(random_cells_num, ub)\n",
        "    population_rand_fitness = [(pop_i, fitness(pop_i,ub)) for pop_i in population_rand]\n",
        "    population_rand_fitness = sorted(population_rand_fitness, key=lambda x: x[1])\n",
        "    \n",
        "    # Replace(Population, Population_rand)\n",
        "    population = replace(population_fitness, population_rand_fitness, population_size)\n",
        "    population = [pop_i[0] for pop_i in population]\n",
        "    \n",
        "    stop += 1"
      ]
    },
    {
      "cell_type": "code",
      "execution_count": null,
      "id": "4c481346",
      "metadata": {
        "id": "4c481346",
        "outputId": "bfd128f5-cd28-475b-d559-336475b943ec"
      },
      "outputs": [
        {
          "data": {
            "text/plain": [
              "([0.01323990812293102,\n",
              "  0.06343968371908852,\n",
              "  0.02163190876579779,\n",
              "  0.2361218383370666,\n",
              "  0.39678977139059135,\n",
              "  0.22443169906443758,\n",
              "  0.3498484478618628,\n",
              "  0.2784933099388692,\n",
              "  0.049871507910037874,\n",
              "  0.003705509438121901,\n",
              "  0.05178890296621288,\n",
              "  0.0633268733505812,\n",
              "  0.06550657526567549,\n",
              "  0.12031314916599704,\n",
              "  0.10379449567789785,\n",
              "  0.08078076081119526,\n",
              "  0.1190004426731799,\n",
              "  0.1418191935235303,\n",
              "  0.1588179876452579,\n",
              "  0.19616289602077708,\n",
              "  0.07203611546845376,\n",
              "  0.5546049808158485,\n",
              "  0.0052937819374516675,\n",
              "  0.02176103430871973,\n",
              "  0.12974237995875992,\n",
              "  0.3185750974759001,\n",
              "  0.07478447853194647,\n",
              "  0.5219531386280688,\n",
              "  0.38873614810558355,\n",
              "  0.16629860052495468,\n",
              "  0.634137290451433,\n",
              "  1.2673133420617033,\n",
              "  2.997862778529694,\n",
              "  3.5515219929565,\n",
              "  0.4247240768847333,\n",
              "  4.022864194335508,\n",
              "  2.362892440236684,\n",
              "  1.7417839657493046,\n",
              "  23.120132326934574,\n",
              "  67.96934214595838,\n",
              "  63.25232896404119,\n",
              "  25.864851583356355,\n",
              "  43.85597999201887,\n",
              "  24.90898478840462,\n",
              "  46.01420623123058,\n",
              "  20.185956926459234,\n",
              "  68.6775553681372,\n",
              "  43.60504192990727],\n",
              " 1373.8429302075776)"
            ]
          },
          "execution_count": 56,
          "metadata": {},
          "output_type": "execute_result"
        }
      ],
      "source": [
        "best_fitness[0][1]"
      ]
    },
    {
      "cell_type": "code",
      "execution_count": null,
      "id": "1ac8aef4",
      "metadata": {
        "id": "1ac8aef4"
      },
      "outputs": [],
      "source": [
        "#Best Min Value after 1000 iterations is 1373.84"
      ]
    },
    {
      "cell_type": "markdown",
      "id": "705cf492",
      "metadata": {
        "id": "705cf492"
      },
      "source": [
        "# Trail 2"
      ]
    },
    {
      "cell_type": "code",
      "execution_count": null,
      "id": "1c8d5edb",
      "metadata": {
        "id": "1c8d5edb"
      },
      "outputs": [],
      "source": [
        "# Inputs parameters\n",
        "\n",
        "population_size = 10000\n",
        "selection_size = 100\n",
        "clone_rate = 5\n",
        "random_cells_num = 20\n",
        "mutation_rate = 0.2\n",
        "stop_codition = 10000"
      ]
    },
    {
      "cell_type": "code",
      "execution_count": null,
      "id": "abe94d63",
      "metadata": {
        "id": "abe94d63"
      },
      "outputs": [],
      "source": [
        "stop = 0\n",
        "\n",
        "# Population <- CreateRandomCells(Population_size,ub)\n",
        "population = create_random_cells(population_size, ub)\n",
        "best_fitness = []\n",
        "\n",
        "while stop != stop_codition:\n",
        "    \n",
        "    # Fitnesss(p_i)\n",
        "    population_fitness = [(pop_i,fitness(pop_i, ub)) for pop_i in population]\n",
        "    population_fitness = sorted(population_fitness, key=lambda x: x[1])\n",
        "    \n",
        "    best_fitness.append(population_fitness[:5])\n",
        "    \n",
        "    # Populatin_select <- Select(Population, Selection_size)\n",
        "    population_select = population_fitness[:selection_size]\n",
        "    \n",
        "    # Population_clones <- clone(pop_i, Clone_rate)\n",
        "    population_clones = []\n",
        "    for pop_i in population_select:\n",
        "        pop_i_clone = clone(clone_rate, pop_i)\n",
        "        population_clones += pop_i_clone\n",
        "        \n",
        "    # Hypermutate and fitness\n",
        "    pop_clones_tmp = []\n",
        "    for pop_i in population_clones:\n",
        "        ind_tmp = hypermutate(pop_i[0], lb,ub)\n",
        "        pop_clones_tmp.append(ind_tmp)\n",
        "    population_clones = pop_clones_tmp\n",
        "    population_clones = [(pop_i,fitness(pop_i, ub)) for pop_i in population_clones]\n",
        "    del pop_clones_tmp\n",
        "    \n",
        "    # Population <- Select(Population, Population_clones, Population_size)\n",
        "    population = select(population_fitness, population_clones, population_size)\n",
        "    \n",
        "    # Population_rand <- CreateRandomCells(RandomCells_num)\n",
        "    population_rand = create_random_cells(random_cells_num, ub)\n",
        "    population_rand_fitness = [(pop_i, fitness(pop_i,ub)) for pop_i in population_rand]\n",
        "    population_rand_fitness = sorted(population_rand_fitness, key=lambda x: x[1])\n",
        "    \n",
        "    # Replace(Population, Population_rand)\n",
        "    population = replace(population_fitness, population_rand_fitness, population_size)\n",
        "    population = [pop_i[0] for pop_i in population]\n",
        "    \n",
        "    stop += 1"
      ]
    },
    {
      "cell_type": "code",
      "execution_count": null,
      "id": "add06b3d",
      "metadata": {
        "id": "add06b3d",
        "outputId": "f2a1b366-2dba-44b4-89c6-02f4b6ab9481"
      },
      "outputs": [
        {
          "data": {
            "text/plain": [
              "([0.016256674248316255,\n",
              "  0.16439441606886046,\n",
              "  0.1530358872070816,\n",
              "  0.18242704221683467,\n",
              "  0.12478172863200868,\n",
              "  0.19923877048163235,\n",
              "  0.39617465992794443,\n",
              "  0.24861129979561294,\n",
              "  0.25658712973256015,\n",
              "  0.03950887994734593,\n",
              "  0.049742953642823634,\n",
              "  0.08983709304086904,\n",
              "  0.05315368236891796,\n",
              "  0.018015571890250496,\n",
              "  0.1278007205746005,\n",
              "  0.06896297067983434,\n",
              "  0.09069481964099388,\n",
              "  0.049699765593437646,\n",
              "  0.08955086753129622,\n",
              "  0.26054006864748197,\n",
              "  0.400049200468308,\n",
              "  0.2215496837274292,\n",
              "  0.028729785467657174,\n",
              "  0.4417902793291926,\n",
              "  0.0776372051108234,\n",
              "  0.14290994441492783,\n",
              "  0.016466602260381456,\n",
              "  0.19550587502350703,\n",
              "  0.03370428892595604,\n",
              "  0.13680028157920376,\n",
              "  0.0032142832976436364,\n",
              "  2.613258692001841,\n",
              "  0.709422159520303,\n",
              "  1.9772503261310463,\n",
              "  2.5701844570560315,\n",
              "  4.4374090628468466,\n",
              "  1.0329643642799664,\n",
              "  0.3135203133824014,\n",
              "  59.54791370280446,\n",
              "  18.24352885263188,\n",
              "  54.36566977429921,\n",
              "  39.225981132109,\n",
              "  24.235757320215864,\n",
              "  67.79505232055139,\n",
              "  24.71700065112458,\n",
              "  64.80855891699288,\n",
              "  29.992008705197502,\n",
              "  45.56754819738095],\n",
              " 829.2931838627915)"
            ]
          },
          "execution_count": 69,
          "metadata": {},
          "output_type": "execute_result"
        }
      ],
      "source": [
        "best_fitness[0][1]"
      ]
    },
    {
      "cell_type": "code",
      "execution_count": null,
      "id": "67bf0a13",
      "metadata": {
        "id": "67bf0a13"
      },
      "outputs": [],
      "source": []
    },
    {
      "cell_type": "code",
      "execution_count": null,
      "id": "4455522d",
      "metadata": {
        "id": "4455522d"
      },
      "outputs": [],
      "source": []
    },
    {
      "cell_type": "code",
      "execution_count": null,
      "id": "2cb74744",
      "metadata": {
        "id": "2cb74744"
      },
      "outputs": [],
      "source": []
    }
  ],
  "metadata": {
    "kernelspec": {
      "display_name": "Python 3 (ipykernel)",
      "language": "python",
      "name": "python3"
    },
    "language_info": {
      "codemirror_mode": {
        "name": "ipython",
        "version": 3
      },
      "file_extension": ".py",
      "mimetype": "text/x-python",
      "name": "python",
      "nbconvert_exporter": "python",
      "pygments_lexer": "ipython3",
      "version": "3.9.12"
    },
    "colab": {
      "provenance": [],
      "include_colab_link": true
    }
  },
  "nbformat": 4,
  "nbformat_minor": 5
}